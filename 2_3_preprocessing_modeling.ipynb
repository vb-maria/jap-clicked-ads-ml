{
 "cells": [
  {
   "cell_type": "markdown",
   "metadata": {
    "id": "JVGnFt9sy4nY",
    "tags": []
   },
   "source": [
    "# DATA PREPARATION :\n",
    "##  DATA CLEANING AND PREPROCESSING"
   ]
  },
  {
   "cell_type": "markdown",
   "metadata": {
    "id": "byrtZWZbcC52",
    "tags": []
   },
   "source": [
    "## Module mporting"
   ]
  },
  {
   "cell_type": "code",
   "execution_count": 1,
   "metadata": {
    "tags": []
   },
   "outputs": [],
   "source": [
    "import pandas as pd\n",
    "from utils.essential import *\n",
    "from utils.preparation import *\n",
    "from utils.preparation_visualization import *\n",
    "from utils.preparation_preprocessing import *"
   ]
  },
  {
   "cell_type": "markdown",
   "metadata": {},
   "source": [
    "### Dataframe Definition"
   ]
  },
  {
   "cell_type": "code",
   "execution_count": 2,
   "metadata": {
    "tags": []
   },
   "outputs": [],
   "source": [
    "# Google Drive access - (Uncoment if required)\n",
    "#drive.mount('/content/drive')\n",
    "\n",
    "path_df = '../data/1-improved/clicked_ads_dataset.csv' # - (Ensure path is correct)\n",
    "#Original Dataframe definition\n",
    "df_improved = pd.read_csv(path_df, low_memory=False)\n",
    "df= df_improved.copy()"
   ]
  },
  {
   "cell_type": "code",
   "execution_count": 3,
   "metadata": {
    "tags": []
   },
   "outputs": [],
   "source": [
    "def column_unique_values(df, column_name):\n",
    "    unique_values = df[column_name].unique()\n",
    "    return list(unique_values)"
   ]
  },
  {
   "cell_type": "markdown",
   "metadata": {},
   "source": [
    "#### Data Formatting and Typing"
   ]
  },
  {
   "cell_type": "code",
   "execution_count": 6,
   "metadata": {
    "tags": []
   },
   "outputs": [],
   "source": [
    "df['Timestamp'] = pd.to_datetime(df['Timestamp'])"
   ]
  },
  {
   "cell_type": "code",
   "execution_count": 7,
   "metadata": {
    "tags": []
   },
   "outputs": [
    {
     "data": {
      "text/plain": [
       "0     2016-03-27 00:53:00\n",
       "1     2016-04-04 01:39:00\n",
       "2     2016-03-13 20:35:00\n",
       "3     2016-01-10 02:31:00\n",
       "4     2016-06-03 03:36:00\n",
       "              ...        \n",
       "995   2016-02-11 21:49:00\n",
       "996   2016-04-22 02:07:00\n",
       "997   2016-02-01 17:24:00\n",
       "998   2016-03-24 02:35:00\n",
       "999   2016-06-03 21:43:00\n",
       "Name: Timestamp, Length: 1000, dtype: datetime64[ns]"
      ]
     },
     "execution_count": 7,
     "metadata": {},
     "output_type": "execute_result"
    }
   ],
   "source": [
    "df['Timestamp']"
   ]
  },
  {
   "cell_type": "markdown",
   "metadata": {},
   "source": [
    "#### Basic Dataframe Overview : Sample Row"
   ]
  },
  {
   "cell_type": "code",
   "execution_count": 8,
   "metadata": {
    "tags": []
   },
   "outputs": [],
   "source": [
    "cat_binary, cat_other, temporal, numerical = type_columns(df,True)\n",
    "categorical = join_column_lists(cat_binary, cat_other)\n",
    "vt_valid_row = get_valid_row(df)\n",
    "vt_cat = get_data_type_by_row(df, vt_valid_row, categorical)\n",
    "vt_num = get_data_type_by_row(df, vt_valid_row, numerical)\n",
    "vt_temporal = get_data_type_by_row(df, vt_valid_row, temporal)"
   ]
  },
  {
   "cell_type": "code",
   "execution_count": 9,
   "metadata": {
    "tags": []
   },
   "outputs": [
    {
     "name": "stdout",
     "output_type": "stream",
     "text": [
      "| \u001b[1m['Sample of most Complete row']\u001b[0m                  |                                                 |                                           |\n",
      "|:-------------------------------------------------|:------------------------------------------------|:------------------------------------------|\n",
      "| Categorical                                      | Temporal                                        | Numerical                                 |\n",
      "|                                                  |                                                 |                                           |\n",
      "| Clicked on Ad: No (object)                       | Timestamp: 2016-03-27 00:53:00 (datetime64[ns]) | Age: 35 (int64)                           |\n",
      "| Category: Furniture (object)                     |                                                 | Area Income: 432837300.0 (float64)        |\n",
      "| City: Jakarta Timur (object)                     |                                                 | Daily Internet Usage: 256.09 (float64)    |\n",
      "| Province: Daerah Khusus Ibukota Jakarta (object) |                                                 | Daily Time Spent on Site: 68.95 (float64) |\n",
      "| Sex: Perempuan (object)                          |                                                 | Unnamed: 0: 0 (int64)                     |\n"
     ]
    }
   ],
   "source": [
    "table_title = ['Sample of most Complete row']\n",
    "column_titles = ['Categorical','Temporal','Numerical']\n",
    "print_table(table_title, column_titles, vt_cat, vt_temporal, vt_num)"
   ]
  },
  {
   "cell_type": "markdown",
   "metadata": {
    "tags": []
   },
   "source": [
    "## Feature Engineering Part 1"
   ]
  },
  {
   "cell_type": "markdown",
   "metadata": {},
   "source": [
    "### Feature Extraction"
   ]
  },
  {
   "cell_type": "code",
   "execution_count": 10,
   "metadata": {
    "tags": []
   },
   "outputs": [
    {
     "data": {
      "text/plain": [
       "['Timestamp']"
      ]
     },
     "execution_count": 10,
     "metadata": {},
     "output_type": "execute_result"
    }
   ],
   "source": [
    "temporal"
   ]
  },
  {
   "cell_type": "code",
   "execution_count": 11,
   "metadata": {
    "tags": []
   },
   "outputs": [
    {
     "name": "stdout",
     "output_type": "stream",
     "text": [
      "Extracted Year and Month from Timestamp\n"
     ]
    }
   ],
   "source": [
    "# Function to extract year and month\n",
    "def extract_year_and_month(df, date_column):\n",
    "    year_column_name = date_column + '_Year'\n",
    "    month_column_name = date_column + '_Month'\n",
    "\n",
    "    df[year_column_name] = pd.to_numeric(df[date_column].dt.year, errors='coerce').astype(pd.Int64Dtype())\n",
    "    df[month_column_name] = df[date_column].dt.month_name()\n",
    "\n",
    "    return df, [year_column_name, month_column_name]\n",
    "new_columns = []\n",
    "\n",
    "for col in temporal:\n",
    "    df, columns_created = extract_year_and_month(df, col)\n",
    "    new_columns.extend(columns_created)\n",
    "    print(f\"Extracted Year and Month from {col}\")"
   ]
  },
  {
   "cell_type": "code",
   "execution_count": 12,
   "metadata": {
    "tags": []
   },
   "outputs": [
    {
     "data": {
      "text/html": [
       "<div>\n",
       "<style scoped>\n",
       "    .dataframe tbody tr th:only-of-type {\n",
       "        vertical-align: middle;\n",
       "    }\n",
       "\n",
       "    .dataframe tbody tr th {\n",
       "        vertical-align: top;\n",
       "    }\n",
       "\n",
       "    .dataframe thead th {\n",
       "        text-align: right;\n",
       "    }\n",
       "</style>\n",
       "<table border=\"1\" class=\"dataframe\">\n",
       "  <thead>\n",
       "    <tr style=\"text-align: right;\">\n",
       "      <th></th>\n",
       "      <th>Unnamed: 0</th>\n",
       "      <th>Daily Time Spent on Site</th>\n",
       "      <th>Age</th>\n",
       "      <th>Area Income</th>\n",
       "      <th>Daily Internet Usage</th>\n",
       "      <th>Sex</th>\n",
       "      <th>Timestamp</th>\n",
       "      <th>Clicked on Ad</th>\n",
       "      <th>City</th>\n",
       "      <th>Province</th>\n",
       "      <th>Category</th>\n",
       "      <th>Timestamp_Year</th>\n",
       "      <th>Timestamp_Month</th>\n",
       "    </tr>\n",
       "  </thead>\n",
       "  <tbody>\n",
       "    <tr>\n",
       "      <th>0</th>\n",
       "      <td>0</td>\n",
       "      <td>68.95</td>\n",
       "      <td>35</td>\n",
       "      <td>432837300.0</td>\n",
       "      <td>256.09</td>\n",
       "      <td>Perempuan</td>\n",
       "      <td>2016-03-27 00:53:00</td>\n",
       "      <td>No</td>\n",
       "      <td>Jakarta Timur</td>\n",
       "      <td>Daerah Khusus Ibukota Jakarta</td>\n",
       "      <td>Furniture</td>\n",
       "      <td>2016</td>\n",
       "      <td>March</td>\n",
       "    </tr>\n",
       "    <tr>\n",
       "      <th>1</th>\n",
       "      <td>1</td>\n",
       "      <td>80.23</td>\n",
       "      <td>31</td>\n",
       "      <td>479092950.0</td>\n",
       "      <td>193.77</td>\n",
       "      <td>Laki-Laki</td>\n",
       "      <td>2016-04-04 01:39:00</td>\n",
       "      <td>No</td>\n",
       "      <td>Denpasar</td>\n",
       "      <td>Bali</td>\n",
       "      <td>Food</td>\n",
       "      <td>2016</td>\n",
       "      <td>April</td>\n",
       "    </tr>\n",
       "    <tr>\n",
       "      <th>2</th>\n",
       "      <td>2</td>\n",
       "      <td>69.47</td>\n",
       "      <td>26</td>\n",
       "      <td>418501580.0</td>\n",
       "      <td>236.50</td>\n",
       "      <td>Perempuan</td>\n",
       "      <td>2016-03-13 20:35:00</td>\n",
       "      <td>No</td>\n",
       "      <td>Surabaya</td>\n",
       "      <td>Jawa Timur</td>\n",
       "      <td>Electronic</td>\n",
       "      <td>2016</td>\n",
       "      <td>March</td>\n",
       "    </tr>\n",
       "    <tr>\n",
       "      <th>3</th>\n",
       "      <td>3</td>\n",
       "      <td>74.15</td>\n",
       "      <td>29</td>\n",
       "      <td>383643260.0</td>\n",
       "      <td>245.89</td>\n",
       "      <td>Laki-Laki</td>\n",
       "      <td>2016-01-10 02:31:00</td>\n",
       "      <td>No</td>\n",
       "      <td>Batam</td>\n",
       "      <td>Kepulauan Riau</td>\n",
       "      <td>House</td>\n",
       "      <td>2016</td>\n",
       "      <td>January</td>\n",
       "    </tr>\n",
       "    <tr>\n",
       "      <th>4</th>\n",
       "      <td>4</td>\n",
       "      <td>68.37</td>\n",
       "      <td>35</td>\n",
       "      <td>517229930.0</td>\n",
       "      <td>225.58</td>\n",
       "      <td>Perempuan</td>\n",
       "      <td>2016-06-03 03:36:00</td>\n",
       "      <td>No</td>\n",
       "      <td>Medan</td>\n",
       "      <td>Sumatra Utara</td>\n",
       "      <td>Finance</td>\n",
       "      <td>2016</td>\n",
       "      <td>June</td>\n",
       "    </tr>\n",
       "  </tbody>\n",
       "</table>\n",
       "</div>"
      ],
      "text/plain": [
       "   Unnamed: 0  Daily Time Spent on Site  Age  Area Income  \\\n",
       "0           0                     68.95   35  432837300.0   \n",
       "1           1                     80.23   31  479092950.0   \n",
       "2           2                     69.47   26  418501580.0   \n",
       "3           3                     74.15   29  383643260.0   \n",
       "4           4                     68.37   35  517229930.0   \n",
       "\n",
       "   Daily Internet Usage        Sex           Timestamp Clicked on Ad  \\\n",
       "0                256.09  Perempuan 2016-03-27 00:53:00            No   \n",
       "1                193.77  Laki-Laki 2016-04-04 01:39:00            No   \n",
       "2                236.50  Perempuan 2016-03-13 20:35:00            No   \n",
       "3                245.89  Laki-Laki 2016-01-10 02:31:00            No   \n",
       "4                225.58  Perempuan 2016-06-03 03:36:00            No   \n",
       "\n",
       "            City                       Province    Category  Timestamp_Year  \\\n",
       "0  Jakarta Timur  Daerah Khusus Ibukota Jakarta   Furniture            2016   \n",
       "1       Denpasar                           Bali        Food            2016   \n",
       "2       Surabaya                     Jawa Timur  Electronic            2016   \n",
       "3          Batam                 Kepulauan Riau       House            2016   \n",
       "4          Medan                  Sumatra Utara     Finance            2016   \n",
       "\n",
       "  Timestamp_Month  \n",
       "0           March  \n",
       "1           April  \n",
       "2           March  \n",
       "3         January  \n",
       "4            June  "
      ]
     },
     "execution_count": 12,
     "metadata": {},
     "output_type": "execute_result"
    }
   ],
   "source": [
    "df.head()"
   ]
  },
  {
   "cell_type": "markdown",
   "metadata": {
    "id": "O4_PK4Rly4ng"
   },
   "source": [
    "- There is no duplicated data so no treatment is necessary.\n",
    "- Models robust to outliers will be used during modeling so there is no need to handle outlers."
   ]
  },
  {
   "cell_type": "markdown",
   "metadata": {
    "id": "AiprwD35kdCt",
    "tags": []
   },
   "source": [
    "## Data Cleansing"
   ]
  },
  {
   "cell_type": "markdown",
   "metadata": {
    "tags": []
   },
   "source": [
    "### Unnecessary features removal"
   ]
  },
  {
   "cell_type": "raw",
   "metadata": {},
   "source": [
    "Based on the initial inspection there are certain unnecessary columns that can be removed due to several factors.\n",
    "    - They have a High cardinality\n",
    "    - They are irrelevant\n",
    "    "
   ]
  },
  {
   "cell_type": "code",
   "execution_count": 13,
   "metadata": {
    "tags": []
   },
   "outputs": [
    {
     "data": {
      "text/plain": [
       "['Unnamed: 0', 'City', 'Province', 'Timestamp']"
      ]
     },
     "execution_count": 13,
     "metadata": {},
     "output_type": "execute_result"
    }
   ],
   "source": [
    "drop_cols = ['Unnamed: 0', 'City','Province','Timestamp']\n",
    "drop_cols"
   ]
  },
  {
   "cell_type": "code",
   "execution_count": 14,
   "metadata": {
    "tags": []
   },
   "outputs": [],
   "source": [
    "df_prep = df.drop(columns=drop_cols)"
   ]
  },
  {
   "cell_type": "markdown",
   "metadata": {},
   "source": [
    "## Features/Label Split"
   ]
  },
  {
   "cell_type": "code",
   "execution_count": 15,
   "metadata": {
    "tags": []
   },
   "outputs": [],
   "source": [
    "# Define your data preprocessing steps\n",
    "X = df_prep.drop('Clicked on Ad', axis=1)\n",
    "y = df_prep['Clicked on Ad']\n"
   ]
  },
  {
   "cell_type": "markdown",
   "metadata": {},
   "source": [
    "## Train/Test Data Split (Leakeage Prevention)"
   ]
  },
  {
   "cell_type": "code",
   "execution_count": 16,
   "metadata": {
    "tags": []
   },
   "outputs": [
    {
     "name": "stdout",
     "output_type": "stream",
     "text": [
      "Feature sets in training and test data are consistent.\n"
     ]
    }
   ],
   "source": [
    "from sklearn.model_selection import train_test_split\n",
    "# Split the balanced data into training and testing set\n",
    "X_train, X_test, y_train, y_test = train_test_split(X, y, test_size=0.2, random_state=42, stratify=y)\n",
    "# Usage example\n",
    "check_feature_consistency(X_train, X_test)"
   ]
  },
  {
   "cell_type": "code",
   "execution_count": 17,
   "metadata": {
    "tags": []
   },
   "outputs": [
    {
     "name": "stdout",
     "output_type": "stream",
     "text": [
      "Numerical Columns:\n",
      "Index(['Daily Time Spent on Site', 'Age', 'Area Income',\n",
      "       'Daily Internet Usage', 'Timestamp_Year'],\n",
      "      dtype='object')\n",
      "\n",
      "Categorical Columns:\n",
      "Index(['Sex', 'Category', 'Timestamp_Month'], dtype='object')\n"
     ]
    }
   ],
   "source": [
    "numerical_cols, categorical_cols = list_column_types(X_train)"
   ]
  },
  {
   "cell_type": "code",
   "execution_count": 18,
   "metadata": {},
   "outputs": [],
   "source": [
    "## Feature Engineering Part 2"
   ]
  },
  {
   "cell_type": "markdown",
   "metadata": {
    "id": "0GgW8vFBiTVM"
   },
   "source": [
    "## Handling Missing Values"
   ]
  },
  {
   "cell_type": "code",
   "execution_count": 19,
   "metadata": {
    "tags": []
   },
   "outputs": [
    {
     "name": "stdout",
     "output_type": "stream",
     "text": [
      "Feature sets in training and test data are consistent.\n",
      "Numerical Columns:\n",
      "Index(['Daily Time Spent on Site', 'Age', 'Area Income',\n",
      "       'Daily Internet Usage', 'Timestamp_Year'],\n",
      "      dtype='object')\n",
      "\n",
      "Categorical Columns:\n",
      "Index(['Sex', 'Category', 'Timestamp_Month'], dtype='object')\n"
     ]
    }
   ],
   "source": [
    "# Performing Imputation\n",
    "# With Data Split\n",
    "X_train_Imp, X_test_Imp = impute_data(X_train, split_data=True, X_test=X_test, drop_all=False)  # Imputing rows with missing values\n",
    "check_feature_consistency(X_train_Imp, X_test_Imp)\n",
    "numerical_cols, categorical_cols = list_column_types(X_train_Imp)\n"
   ]
  },
  {
   "cell_type": "code",
   "execution_count": 33,
   "metadata": {
    "tags": []
   },
   "outputs": [
    {
     "name": "stdout",
     "output_type": "stream",
     "text": [
      "Number of missing values in X_train: 0\n",
      "Percentage of missing values relative to total values: 0.0%\n"
     ]
    }
   ],
   "source": [
    "missing_values = X_train_Imp.isnull().sum()\n",
    "total_values = X_train_Imp.size\n",
    "total_missing = missing_values.sum()\n",
    "percentage_missing_of_total = (total_missing / total_values) * 100\n",
    "print(\"Number of missing values in X_train:\", total_missing)\n",
    "print(f\"Percentage of missing values relative to total values: {percentage_missing_of_total}%\")"
   ]
  },
  {
   "cell_type": "code",
   "execution_count": 35,
   "metadata": {
    "tags": []
   },
   "outputs": [
    {
     "name": "stdout",
     "output_type": "stream",
     "text": [
      "Number of missing values in X_test: 0\n",
      "Percentage of missing values relative to total values: 0.0%\n"
     ]
    }
   ],
   "source": [
    "missing_values = X_test_Imp.isnull().sum()\n",
    "total_values = X_test_Imp.size\n",
    "total_missing = missing_values.sum()\n",
    "percentage_missing_of_total = (total_missing / total_values) * 100\n",
    "print(\"Number of missing values in X_test:\", total_missing)\n",
    "print(f\"Percentage of missing values relative to total values: {percentage_missing_of_total}%\")"
   ]
  },
  {
   "cell_type": "markdown",
   "metadata": {
    "id": "0GgW8vFBiTVM"
   },
   "source": [
    "## Feature Engineering"
   ]
  },
  {
   "cell_type": "markdown",
   "metadata": {
    "id": "7eZ-aGzbkdRV"
   },
   "source": [
    "### Feature Encoding & Scaling"
   ]
  },
  {
   "cell_type": "code",
   "execution_count": 20,
   "metadata": {},
   "outputs": [],
   "source": [
    "# Concatenate the training and testing data for one-hot encoding\n",
    "X_concatenated = pd.concat([X_train_Imp, X_test_Imp])\n",
    "\n",
    "# Identify categorical features\n",
    "categorical_features = X_concatenated.select_dtypes(include=['object']).columns\n",
    "numerical_features = X_concatenated.select_dtypes(exclude=['object']).columns\n",
    "\n",
    "# Apply one-hot encoding to the concatenated data\n",
    "categorical_encoded = one_hot_encode(X_concatenated)\n",
    "numerical_scaled = scale_features(X_concatenated, scaler_type='Robust')\n",
    "\n",
    "# Concatenate the numerical columns with the one-hot encoded categorical columns\n",
    "X_encoded_scaled = pd.concat([categorical_encoded, numerical_scaled], axis=1)\n",
    "\n",
    "# Split the encoded data back into training and testing datasets\n",
    "X_train_ready = X_encoded_scaled.iloc[:len(X_train_Imp)]\n",
    "X_test_ready = X_encoded_scaled.iloc[len(X_train_Imp):]"
   ]
  },
  {
   "cell_type": "code",
   "execution_count": 21,
   "metadata": {},
   "outputs": [
    {
     "name": "stdout",
     "output_type": "stream",
     "text": [
      "Feature sets in training and test data are consistent.\n",
      "Numerical Columns:\n",
      "Index(['Sex_Perempuan', 'Category_Electronic', 'Category_Fashion',\n",
      "       'Category_Finance', 'Category_Food', 'Category_Furniture',\n",
      "       'Category_Health', 'Category_House', 'Category_Otomotif',\n",
      "       'Category_Travel', 'Timestamp_Month_February',\n",
      "       'Timestamp_Month_January', 'Timestamp_Month_July',\n",
      "       'Timestamp_Month_June', 'Timestamp_Month_March', 'Timestamp_Month_May',\n",
      "       'Daily Time Spent on Site', 'Age', 'Area Income',\n",
      "       'Daily Internet Usage', 'Timestamp_Year'],\n",
      "      dtype='object')\n",
      "\n",
      "Categorical Columns:\n",
      "Index([], dtype='object')\n"
     ]
    }
   ],
   "source": [
    "check_feature_consistency(X_train_ready, X_train_ready)\n",
    "numerical_cols, categorical_cols = list_column_types(X_train_ready)"
   ]
  },
  {
   "cell_type": "markdown",
   "metadata": {
    "id": "_e21LgFdiZra",
    "tags": []
   },
   "source": [
    "## Handling Class Imbalance"
   ]
  },
  {
   "cell_type": "code",
   "execution_count": 22,
   "metadata": {},
   "outputs": [],
   "source": [
    "class_text = [\"0, no default\",\"1, yes default\"]"
   ]
  },
  {
   "cell_type": "code",
   "execution_count": 25,
   "metadata": {
    "tags": []
   },
   "outputs": [
    {
     "name": "stdout",
     "output_type": "stream",
     "text": [
      "Handling class balance in Clicked on Ad\n",
      "Proportion of 0, no default: 50.00%\n",
      "Proportion of 1, yes default: 50.00%\n",
      "Clicked on Ad\n",
      "Yes    400\n",
      "No     400\n",
      "Name: count, dtype: int64\n"
     ]
    }
   ],
   "source": [
    "    unique_classes = range(len(y.unique()))\n",
    "\n",
    "    if class_text and len(class_text) != len(unique_classes):\n",
    "        raise ValueError(\"Number of class names should match the number of unique classes in 'y'. Please add more names.\")\n",
    "    print(f\"Handling class balance in {y.name}\")\n",
    "    total = len(y)\n",
    "    proportions = [(unique_class, (y.value_counts()[unique_class] / total) * 100) for unique_class in unique_classes]\n",
    "\n",
    "    for unique_class, proportion in proportions:\n",
    "        text_class = class_text[unique_class] if class_text else f'Class {unique_class}'\n",
    "        print(f'Proportion of {text_class}: {proportion:.2f}%')\n",
    "    print(y_train.value_counts())"
   ]
  },
  {
   "cell_type": "markdown",
   "metadata": {},
   "source": [
    "The target is already balanced"
   ]
  },
  {
   "cell_type": "markdown",
   "metadata": {
    "id": "Nhq4a07Bkdma",
    "tags": []
   },
   "source": [
    "## Feature Selection"
   ]
  },
  {
   "cell_type": "code",
   "execution_count": 26,
   "metadata": {
    "tags": []
   },
   "outputs": [],
   "source": [
    "df_heatmap = X_train_ready"
   ]
  },
  {
   "cell_type": "code",
   "execution_count": 39,
   "metadata": {},
   "outputs": [
    {
     "data": {
      "image/png": "[encoded data removed]",
      "text/plain": [
       "<Figure size 2000x800 with 2 Axes>"
      ]
     },
     "metadata": {},
     "output_type": "display_data"
    },
    {
     "name": "stdout",
     "output_type": "stream",
     "text": [
      "Pairs of features with high correlation between them:\n",
      "---------------------------------------------------------------------------\n",
      "Features to remove due to high correlation:\n",
      "[]\n"
     ]
    }
   ],
   "source": [
    "plt.figure(figsize=(20, 8))\n",
    "ax = plt.gca()\n",
    "corr_matrix = custom_heatmap(df_heatmap, ax)\n",
    "plt.show()\n",
    "\n",
    "print(\"Pairs of features with high correlation between them:\")\n",
    "high_corr_pairs = []\n",
    "for i in range(len(corr_matrix.columns)):\n",
    "    for j in range(i):\n",
    "        if abs(corr_matrix.iloc[i, j]) >= 0.8:\n",
    "            high_corr_pairs.append((corr_matrix.columns[i], corr_matrix.columns[j]))\n",
    "\n",
    "for pair in high_corr_pairs:\n",
    "    print(f\"{pair[0]} and {pair[1]}\")\n",
    "features_to_drop = set()\n",
    "for pair in high_corr_pairs:\n",
    "    features_to_drop.update(pair)\n",
    "high_corr_features = list(features_to_drop)\n",
    "print(\"-\"*75)\n",
    "print(\"Features to remove due to high correlation:\")\n",
    "print(high_corr_features)"
   ]
  },
  {
   "cell_type": "markdown",
   "metadata": {},
   "source": [
    "# Modeling"
   ]
  },
  {
   "cell_type": "code",
   "execution_count": 42,
   "metadata": {
    "tags": []
   },
   "outputs": [],
   "source": [
    "X_train_normalized = X_train_ready\n",
    "X_test_normalized = X_test_ready"
   ]
  },
  {
   "cell_type": "code",
   "execution_count": 54,
   "metadata": {
    "tags": []
   },
   "outputs": [
    {
     "name": "stdout",
     "output_type": "stream",
     "text": [
      "\n",
      "Random Forest Training Set:\n",
      "[[400   0]\n",
      " [  0 400]]\n",
      "              precision    recall  f1-score   support\n",
      "\n",
      "          No       1.00      1.00      1.00       400\n",
      "         Yes       1.00      1.00      1.00       400\n",
      "\n",
      "    accuracy                           1.00       800\n",
      "   macro avg       1.00      1.00      1.00       800\n",
      "weighted avg       1.00      1.00      1.00       800\n",
      "\n",
      "\n",
      "Random Forest Testing Set:\n",
      "[[97  3]\n",
      " [ 2 98]]\n",
      "              precision    recall  f1-score   support\n",
      "\n",
      "          No       0.98      0.97      0.97       100\n",
      "         Yes       0.97      0.98      0.98       100\n",
      "\n",
      "    accuracy                           0.97       200\n",
      "   macro avg       0.98      0.97      0.97       200\n",
      "weighted avg       0.98      0.97      0.97       200\n",
      "\n",
      "\n",
      "========================================\n",
      "\n",
      "LightGBM Training Set:\n",
      "[[400   0]\n",
      " [  0 400]]\n",
      "              precision    recall  f1-score   support\n",
      "\n",
      "          No       1.00      1.00      1.00       400\n",
      "         Yes       1.00      1.00      1.00       400\n",
      "\n",
      "    accuracy                           1.00       800\n",
      "   macro avg       1.00      1.00      1.00       800\n",
      "weighted avg       1.00      1.00      1.00       800\n",
      "\n",
      "\n",
      "LightGBM Testing Set:\n",
      "[[96  4]\n",
      " [ 3 97]]\n",
      "              precision    recall  f1-score   support\n",
      "\n",
      "          No       0.97      0.96      0.96       100\n",
      "         Yes       0.96      0.97      0.97       100\n",
      "\n",
      "    accuracy                           0.96       200\n",
      "   macro avg       0.97      0.96      0.96       200\n",
      "weighted avg       0.97      0.96      0.96       200\n",
      "\n",
      "\n",
      "========================================\n",
      "\n",
      "SVC Training Set:\n",
      "[[398   2]\n",
      " [  9 391]]\n",
      "              precision    recall  f1-score   support\n",
      "\n",
      "          No       0.98      0.99      0.99       400\n",
      "         Yes       0.99      0.98      0.99       400\n",
      "\n",
      "    accuracy                           0.99       800\n",
      "   macro avg       0.99      0.99      0.99       800\n",
      "weighted avg       0.99      0.99      0.99       800\n",
      "\n",
      "\n",
      "SVC Testing Set:\n",
      "[[99  1]\n",
      " [ 3 97]]\n",
      "              precision    recall  f1-score   support\n",
      "\n",
      "          No       0.97      0.99      0.98       100\n",
      "         Yes       0.99      0.97      0.98       100\n",
      "\n",
      "    accuracy                           0.98       200\n",
      "   macro avg       0.98      0.98      0.98       200\n",
      "weighted avg       0.98      0.98      0.98       200\n",
      "\n",
      "\n",
      "========================================\n"
     ]
    },
    {
     "data": {
      "image/png": "[encoded data removed]",
      "text/plain": [
       "<Figure size 1800x400 with 6 Axes>"
      ]
     },
     "metadata": {},
     "output_type": "display_data"
    },
    {
     "name": "stdout",
     "output_type": "stream",
     "text": [
      "\n",
      "Random Forest F1 Score (Training Set): 1.0\n",
      "Random Forest F1 Score (Test Set): 0.9749993749843745\n",
      "\n",
      "\n",
      "LightGBM F1 Score (Training Set): 1.0\n",
      "LightGBM F1 Score (Test Set): 0.9649991249781243\n",
      "\n",
      "\n",
      "SVC F1 Score (Training Set): 0.9862489471850188\n",
      "SVC F1 Score (Test Set): 0.97999799979998\n",
      "\n"
     ]
    }
   ],
   "source": [
    "from sklearn.ensemble import RandomForestClassifier\n",
    "from lightgbm import LGBMClassifier\n",
    "from sklearn.svm import SVC\n",
    "from sklearn.metrics import confusion_matrix, f1_score, classification_report\n",
    "import seaborn as sns\n",
    "import matplotlib.pyplot as plt\n",
    "\n",
    "# Random Forest Classifier\n",
    "rf_model = RandomForestClassifier(random_state=42)\n",
    "rf_model.fit(X_train_normalized, y_train)\n",
    "rf_predictions_train = rf_model.predict(X_train_normalized)\n",
    "rf_predictions_test = rf_model.predict(X_test_normalized)\n",
    "\n",
    "# LightGBM Classifier\n",
    "lgbm_model = LGBMClassifier(random_state=42, verbose=-1)\n",
    "lgbm_model.fit(X_train_normalized, y_train)\n",
    "lgbm_predictions_train = lgbm_model.predict(X_train_normalized)\n",
    "lgbm_predictions_test = lgbm_model.predict(X_test_normalized)\n",
    "\n",
    "# Support Vector Classifier (SVC)\n",
    "svc_model = SVC(random_state=42)\n",
    "svc_model.fit(X_train_normalized, y_train)\n",
    "svc_predictions_train = svc_model.predict(X_train_normalized)\n",
    "svc_predictions_test = svc_model.predict(X_test_normalized)\n",
    "\n",
    "# Models\n",
    "models = {\n",
    "    \"Random Forest\": {\"train\": rf_predictions_train, \"test\": rf_predictions_test},\n",
    "    \"LightGBM\": {\"train\": lgbm_predictions_train, \"test\": lgbm_predictions_test},\n",
    "    \"SVC\": {\"train\": svc_predictions_train, \"test\": svc_predictions_test},\n",
    "}\n",
    "\n",
    "for model_name, predictions_dict in models.items():\n",
    "    print(f\"\\n{model_name} Training Set:\")\n",
    "    print(confusion_matrix(y_train, predictions_dict[\"train\"]))\n",
    "    print(classification_report(y_train, predictions_dict[\"train\"]))\n",
    "\n",
    "    print(f\"\\n{model_name} Testing Set:\")\n",
    "    print(confusion_matrix(y_test, predictions_dict[\"test\"]))\n",
    "    print(classification_report(y_test, predictions_dict[\"test\"]))\n",
    "\n",
    "    print(\"\\n\" + \"=\" * 40)\n",
    "\n",
    "# Plot Confusion Matrix for each model (Train and Test)\n",
    "plt.figure(figsize=(18, 4))\n",
    "for i, (model_name, predictions_dict) in enumerate(models.items()):\n",
    "    plt.subplot(2, len(models), i + 1)\n",
    "    cm_train = confusion_matrix(y_train, predictions_dict[\"train\"])\n",
    "    sns.heatmap(cm_train, annot=True, fmt='d', cmap='Blues', cbar=False, annot_kws={\"size\": 16})\n",
    "    plt.title(f'{model_name} Confusion Matrix (Train Set)')\n",
    "    plt.xlabel('Predicted')\n",
    "    plt.ylabel('Actual')\n",
    "\n",
    "    plt.subplot(2, len(models), len(models) + i + 1)\n",
    "    cm_test = confusion_matrix(y_test, predictions_dict[\"test\"])\n",
    "    sns.heatmap(cm_test, annot=True, fmt='d', cmap='Blues', cbar=False, annot_kws={\"size\": 16})\n",
    "    plt.title(f'{model_name} Confusion Matrix (Test Set)')\n",
    "    plt.xlabel('Predicted')\n",
    "    plt.ylabel('Actual')\n",
    "\n",
    "plt.tight_layout()\n",
    "plt.show()\n",
    "\n",
    "# F1 Score for all models\n",
    "for model_name, predictions_dict in models.items():\n",
    "    f1_train = f1_score(y_train, predictions_dict[\"train\"], average='weighted')\n",
    "    f1_test = f1_score(y_test, predictions_dict[\"test\"], average='weighted')\n",
    "    print(f'\\n{model_name} F1 Score (Training Set): {f1_train}')\n",
    "    print(f'{model_name} F1 Score (Test Set): {f1_test}\\n')\n",
    "\n",
    "\n"
   ]
  },
  {
   "cell_type": "markdown",
   "metadata": {},
   "source": [
    "Comparing the F1 scores on the test set, the SVC model performed slightly better with an F1 score of 0.980, followed by the Random Forest model with an F1 score of 0.975, and the LightGBM model with an F1 score of 0.965."
   ]
  },
  {
   "cell_type": "code",
   "execution_count": 53,
   "metadata": {
    "tags": []
   },
   "outputs": [
    {
     "name": "stdout",
     "output_type": "stream",
     "text": [
      "Feature Importances:\n",
      "Daily Time Spent on Site: 0.17637499999999995\n",
      "Daily Internet Usage: 0.16512499999999997\n",
      "Area Income: 0.05074999999999996\n",
      "Age: 0.03349999999999995\n",
      "Category_Otomotif: 0.003624999999999945\n",
      "Category_Food: 0.003624999999999934\n",
      "Timestamp_Month_January: 0.0034999999999999476\n",
      "Timestamp_Month_March: 0.0027499999999999526\n",
      "Timestamp_Month_May: 0.0027499999999999413\n",
      "Sex_Perempuan: 0.002499999999999958\n",
      "Category_Finance: 0.002249999999999952\n",
      "Category_House: 0.0013749999999999706\n",
      "Timestamp_Month_July: 0.0013749999999999706\n",
      "Timestamp_Month_February: 0.0012499999999999734\n",
      "Category_Electronic: 0.0006249999999999867\n",
      "Category_Travel: 0.0004999999999999782\n",
      "Timestamp_Month_June: 0.000374999999999992\n",
      "Category_Health: 0.0002499999999999947\n",
      "Category_Fashion: 0.0002499999999999947\n",
      "Category_Furniture: 0.0\n",
      "Timestamp_Year: 0.0\n"
     ]
    }
   ],
   "source": [
    "from sklearn.inspection import permutation_importance\n",
    "\n",
    "# Calculate permutation importances\n",
    "result = permutation_importance(svc_model, X_train_normalized, y_train, n_repeats=10, random_state=42)\n",
    "\n",
    "# Get feature importances\n",
    "importances = result.importances_mean\n",
    "\n",
    "# Get feature names\n",
    "feature_names = X_train_normalized.columns\n",
    "\n",
    "# Sort feature importances and feature names\n",
    "indices = importances.argsort()[::-1]\n",
    "\n",
    "# Print feature importances\n",
    "print(\"Feature Importances:\")\n",
    "for f in range(len(indices)):\n",
    "    print(f\"{feature_names[indices[f]]}: {importances[indices[f]]}\")\n"
   ]
  },
  {
   "cell_type": "markdown",
   "metadata": {},
   "source": [
    "The features that contribute the most are\n",
    "- Daily Time Spent on Site\n",
    "- Daily Internet Usage\n",
    "- Area Income\n",
    "- Age"
   ]
  },
  {
   "cell_type": "markdown",
   "metadata": {},
   "source": [
    "Timestamp_Year (0.0): has zero importance, it doesn't contribute to the model's predictive performance."
   ]
  }
 ],
 "metadata": {
  "colab": {
   "provenance": [],
   "toc_visible": true
  },
  "kernelspec": {
   "display_name": "Python 3 (ipykernel)",
   "language": "python",
   "name": "python3"
  },
  "language_info": {
   "codemirror_mode": {
    "name": "ipython",
    "version": 3
   },
   "file_extension": ".py",
   "mimetype": "text/x-python",
   "name": "python",
   "nbconvert_exporter": "python",
   "pygments_lexer": "ipython3",
   "version": "3.11.5"
  },
  "widgets": {
   "application/vnd.jupyter.widget-state+json": {
    "190539ed54a344c6b5e6edc05cfb1e26": {
     "model_module": "@jupyter-widgets/controls",
     "model_module_version": "1.5.0",
     "model_name": "HTMLModel",
     "state": {
      "_dom_classes": [],
      "_model_module": "@jupyter-widgets/controls",
      "_model_module_version": "1.5.0",
      "_model_name": "HTMLModel",
      "_view_count": null,
      "_view_module": "@jupyter-widgets/controls",
      "_view_module_version": "1.5.0",
      "_view_name": "HTMLView",
      "description": "",
      "description_tooltip": null,
      "layout": "IPY_MODEL_9b196a37b54843ce8a08a6de02611d94",
      "placeholder": "​",
      "style": "IPY_MODEL_66d5fc38a68645bb9a6259dfae77c160",
      "value": " 2979/5029 [20:54&lt;11:34,  2.95it/s, scatter LANDAREA_MEDI, LANDAREA_MODE]"
     }
    },
    "1cb86c20c89c4e30acbcb1040209e49c": {
     "model_module": "@jupyter-widgets/controls",
     "model_module_version": "1.5.0",
     "model_name": "DescriptionStyleModel",
     "state": {
      "_model_module": "@jupyter-widgets/controls",
      "_model_module_version": "1.5.0",
      "_model_name": "DescriptionStyleModel",
      "_view_count": null,
      "_view_module": "@jupyter-widgets/base",
      "_view_module_version": "1.2.0",
      "_view_name": "StyleView",
      "description_width": ""
     }
    },
    "35d687c3753a4f0b9e19fadbe372df26": {
     "model_module": "@jupyter-widgets/controls",
     "model_module_version": "1.5.0",
     "model_name": "HTMLModel",
     "state": {
      "_dom_classes": [],
      "_model_module": "@jupyter-widgets/controls",
      "_model_module_version": "1.5.0",
      "_model_name": "HTMLModel",
      "_view_count": null,
      "_view_module": "@jupyter-widgets/controls",
      "_view_module_version": "1.5.0",
      "_view_name": "HTMLView",
      "description": "",
      "description_tooltip": null,
      "layout": "IPY_MODEL_e7940f5582aa46d2a237b0e9612d03f9",
      "placeholder": "​",
      "style": "IPY_MODEL_1cb86c20c89c4e30acbcb1040209e49c",
      "value": "Summarize dataset:  59%"
     }
    },
    "66d5fc38a68645bb9a6259dfae77c160": {
     "model_module": "@jupyter-widgets/controls",
     "model_module_version": "1.5.0",
     "model_name": "DescriptionStyleModel",
     "state": {
      "_model_module": "@jupyter-widgets/controls",
      "_model_module_version": "1.5.0",
      "_model_name": "DescriptionStyleModel",
      "_view_count": null,
      "_view_module": "@jupyter-widgets/base",
      "_view_module_version": "1.2.0",
      "_view_name": "StyleView",
      "description_width": ""
     }
    },
    "86b48c193a8248489fdc2cc7c7199531": {
     "model_module": "@jupyter-widgets/controls",
     "model_module_version": "1.5.0",
     "model_name": "ProgressStyleModel",
     "state": {
      "_model_module": "@jupyter-widgets/controls",
      "_model_module_version": "1.5.0",
      "_model_name": "ProgressStyleModel",
      "_view_count": null,
      "_view_module": "@jupyter-widgets/base",
      "_view_module_version": "1.2.0",
      "_view_name": "StyleView",
      "bar_color": null,
      "description_width": ""
     }
    },
    "97a50b293eac44c48d57d6f5f4befcbc": {
     "model_module": "@jupyter-widgets/base",
     "model_module_version": "1.2.0",
     "model_name": "LayoutModel",
     "state": {
      "_model_module": "@jupyter-widgets/base",
      "_model_module_version": "1.2.0",
      "_model_name": "LayoutModel",
      "_view_count": null,
      "_view_module": "@jupyter-widgets/base",
      "_view_module_version": "1.2.0",
      "_view_name": "LayoutView",
      "align_content": null,
      "align_items": null,
      "align_self": null,
      "border": null,
      "bottom": null,
      "display": null,
      "flex": null,
      "flex_flow": null,
      "grid_area": null,
      "grid_auto_columns": null,
      "grid_auto_flow": null,
      "grid_auto_rows": null,
      "grid_column": null,
      "grid_gap": null,
      "grid_row": null,
      "grid_template_areas": null,
      "grid_template_columns": null,
      "grid_template_rows": null,
      "height": null,
      "justify_content": null,
      "justify_items": null,
      "left": null,
      "margin": null,
      "max_height": null,
      "max_width": null,
      "min_height": null,
      "min_width": null,
      "object_fit": null,
      "object_position": null,
      "order": null,
      "overflow": null,
      "overflow_x": null,
      "overflow_y": null,
      "padding": null,
      "right": null,
      "top": null,
      "visibility": null,
      "width": null
     }
    },
    "9b196a37b54843ce8a08a6de02611d94": {
     "model_module": "@jupyter-widgets/base",
     "model_module_version": "1.2.0",
     "model_name": "LayoutModel",
     "state": {
      "_model_module": "@jupyter-widgets/base",
      "_model_module_version": "1.2.0",
      "_model_name": "LayoutModel",
      "_view_count": null,
      "_view_module": "@jupyter-widgets/base",
      "_view_module_version": "1.2.0",
      "_view_name": "LayoutView",
      "align_content": null,
      "align_items": null,
      "align_self": null,
      "border": null,
      "bottom": null,
      "display": null,
      "flex": null,
      "flex_flow": null,
      "grid_area": null,
      "grid_auto_columns": null,
      "grid_auto_flow": null,
      "grid_auto_rows": null,
      "grid_column": null,
      "grid_gap": null,
      "grid_row": null,
      "grid_template_areas": null,
      "grid_template_columns": null,
      "grid_template_rows": null,
      "height": null,
      "justify_content": null,
      "justify_items": null,
      "left": null,
      "margin": null,
      "max_height": null,
      "max_width": null,
      "min_height": null,
      "min_width": null,
      "object_fit": null,
      "object_position": null,
      "order": null,
      "overflow": null,
      "overflow_x": null,
      "overflow_y": null,
      "padding": null,
      "right": null,
      "top": null,
      "visibility": null,
      "width": null
     }
    },
    "a6c7e31c03744cc897d6b867e30dc367": {
     "model_module": "@jupyter-widgets/controls",
     "model_module_version": "1.5.0",
     "model_name": "FloatProgressModel",
     "state": {
      "_dom_classes": [],
      "_model_module": "@jupyter-widgets/controls",
      "_model_module_version": "1.5.0",
      "_model_name": "FloatProgressModel",
      "_view_count": null,
      "_view_module": "@jupyter-widgets/controls",
      "_view_module_version": "1.5.0",
      "_view_name": "ProgressView",
      "bar_style": "",
      "description": "",
      "description_tooltip": null,
      "layout": "IPY_MODEL_f9c5008a63f94548b97f6200f980ae6d",
      "max": 5,
      "min": 0,
      "orientation": "horizontal",
      "style": "IPY_MODEL_86b48c193a8248489fdc2cc7c7199531",
      "value": 5
     }
    },
    "c913c43e80004465bdf91890fe2768b2": {
     "model_module": "@jupyter-widgets/controls",
     "model_module_version": "1.5.0",
     "model_name": "HBoxModel",
     "state": {
      "_dom_classes": [],
      "_model_module": "@jupyter-widgets/controls",
      "_model_module_version": "1.5.0",
      "_model_name": "HBoxModel",
      "_view_count": null,
      "_view_module": "@jupyter-widgets/controls",
      "_view_module_version": "1.5.0",
      "_view_name": "HBoxView",
      "box_style": "",
      "children": [
       "IPY_MODEL_35d687c3753a4f0b9e19fadbe372df26",
       "IPY_MODEL_a6c7e31c03744cc897d6b867e30dc367",
       "IPY_MODEL_190539ed54a344c6b5e6edc05cfb1e26"
      ],
      "layout": "IPY_MODEL_97a50b293eac44c48d57d6f5f4befcbc"
     }
    },
    "e7940f5582aa46d2a237b0e9612d03f9": {
     "model_module": "@jupyter-widgets/base",
     "model_module_version": "1.2.0",
     "model_name": "LayoutModel",
     "state": {
      "_model_module": "@jupyter-widgets/base",
      "_model_module_version": "1.2.0",
      "_model_name": "LayoutModel",
      "_view_count": null,
      "_view_module": "@jupyter-widgets/base",
      "_view_module_version": "1.2.0",
      "_view_name": "LayoutView",
      "align_content": null,
      "align_items": null,
      "align_self": null,
      "border": null,
      "bottom": null,
      "display": null,
      "flex": null,
      "flex_flow": null,
      "grid_area": null,
      "grid_auto_columns": null,
      "grid_auto_flow": null,
      "grid_auto_rows": null,
      "grid_column": null,
      "grid_gap": null,
      "grid_row": null,
      "grid_template_areas": null,
      "grid_template_columns": null,
      "grid_template_rows": null,
      "height": null,
      "justify_content": null,
      "justify_items": null,
      "left": null,
      "margin": null,
      "max_height": null,
      "max_width": null,
      "min_height": null,
      "min_width": null,
      "object_fit": null,
      "object_position": null,
      "order": null,
      "overflow": null,
      "overflow_x": null,
      "overflow_y": null,
      "padding": null,
      "right": null,
      "top": null,
      "visibility": null,
      "width": null
     }
    },
    "f9c5008a63f94548b97f6200f980ae6d": {
     "model_module": "@jupyter-widgets/base",
     "model_module_version": "1.2.0",
     "model_name": "LayoutModel",
     "state": {
      "_model_module": "@jupyter-widgets/base",
      "_model_module_version": "1.2.0",
      "_model_name": "LayoutModel",
      "_view_count": null,
      "_view_module": "@jupyter-widgets/base",
      "_view_module_version": "1.2.0",
      "_view_name": "LayoutView",
      "align_content": null,
      "align_items": null,
      "align_self": null,
      "border": null,
      "bottom": null,
      "display": null,
      "flex": null,
      "flex_flow": null,
      "grid_area": null,
      "grid_auto_columns": null,
      "grid_auto_flow": null,
      "grid_auto_rows": null,
      "grid_column": null,
      "grid_gap": null,
      "grid_row": null,
      "grid_template_areas": null,
      "grid_template_columns": null,
      "grid_template_rows": null,
      "height": null,
      "justify_content": null,
      "justify_items": null,
      "left": null,
      "margin": null,
      "max_height": null,
      "max_width": null,
      "min_height": null,
      "min_width": null,
      "object_fit": null,
      "object_position": null,
      "order": null,
      "overflow": null,
      "overflow_x": null,
      "overflow_y": null,
      "padding": null,
      "right": null,
      "top": null,
      "visibility": null,
      "width": null
     }
    }
   }
  }
 },
 "nbformat": 4,
 "nbformat_minor": 4
}
