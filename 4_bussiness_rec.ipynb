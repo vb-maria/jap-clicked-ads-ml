{
 "cells": [
  {
   "cell_type": "markdown",
   "id": "d567f361-d6c0-4b40-9e6c-82e0e3f6a5f0",
   "metadata": {},
   "source": [
    "Strategic Ad Placements for Early Engagement:\n",
    "\n",
    "Insights: Users who click on ads spend less time on the site.\n",
    "Strategy: Identify prime site locations visited during initial sessions. Place ads strategically to capture attention early, especially for users with shorter site durations.\n",
    "Optimizing User Engagement Timing:\n",
    "\n",
    "Insights: Users who click on ads are typically older with lower daily internet usage.\n",
    "Strategy: Streamline user sessions for early ad interactions. Adjust ad placements to engage older users who spend less time on the site.\n",
    "Personalized Ad Content for Specific Demographics:\n",
    "\n",
    "Insights: Users who click on ads tend to have lower incomes.\n",
    "Strategy: Develop ad content tailored to users in lower income brackets. Ensure personalized content aligns with the unique needs and interests of this demographic.\n",
    "Captivating Young Audiences with Tailored Content:\n",
    "\n",
    "Insights: Users who did not click on ads are typically younger with higher daily internet usage.\n",
    "Strategy: Craft visually appealing and culturally relevant ads to capture the attention of younger users. Design content that resonates with their interests, leveraging their higher daily internet usage."
   ]
  },
  {
   "cell_type": "code",
   "execution_count": 1,
   "id": "5e75871f-0e87-4fe6-acc8-e363a2d3fc83",
   "metadata": {
    "tags": []
   },
   "outputs": [
    {
     "name": "stdout",
     "output_type": "stream",
     "text": [
      "Before Machine Learning Model Implementation:\n",
      "                       Category  Amount (Rp)\n",
      "0  Advertisement Campaign Costs     50000000\n",
      "1             Operational Costs     20000000\n",
      "2                   Total Costs     70000000\n",
      "3              Expected Revenue     80000000\n",
      "4                 Total Revenue     80000000\n",
      "5                        Profit     10000000\n",
      "\n",
      "After Machine Learning Model Implementation:\n",
      "                       Category  Amount (Rp)\n",
      "0  Advertisement Campaign Costs   40000000.0\n",
      "1             Operational Costs   20000000.0\n",
      "2                   Total Costs   60000000.0\n",
      "3              Expected Revenue  104000000.0\n",
      "4                 Total Revenue  104000000.0\n",
      "5                        Profit   14000000.0\n",
      "\n",
      "Improvement:\n",
      "           Category  Improvement (Rp)\n",
      "0    Cost Reduction        10000000.0\n",
      "1  Revenue Increase        24000000.0\n",
      "2   Profit Increase         4000000.0\n"
     ]
    }
   ],
   "source": []
  },
  {
   "cell_type": "markdown",
   "id": "f9027b9c-c405-4cdc-a5ba-baef3297ee1d",
   "metadata": {},
   "source": [
    "Simulation Scenario:\n",
    "Before Machine Learning Model Implementation:\n",
    "\n",
    "Costs:\n",
    "\n",
    "Advertisement Campaign Costs: Rp 50,000,000\n",
    "Operational Costs: Rp 20,000,000\n",
    "Total Costs = Rp 70,000,000\n",
    "Revenue:\n",
    "\n",
    "Expected Revenue from Clicked Ads: Rp 80,000,000\n",
    "Total Revenue = Rp 80,000,000\n",
    "Profit:\n",
    "\n",
    "Profit = Rp 80,000,000 (Revenue) - Rp 70,000,000 (Total Costs) = Rp 10,000,000\n",
    "After Machine Learning Model Implementation:\n",
    "\n",
    "Costs:\n",
    "\n",
    "Advertisement Campaign Costs: Rp 40,000,000\n",
    "Operational Costs: Rp 20,000,000\n",
    "Total Costs = Rp 60,000,000\n",
    "Revenue:\n",
    "\n",
    "Expected Revenue from Clicked Ads: Rp 100,000,000\n",
    "Total Revenue = Rp 100,000,000\n",
    "Profit:\n",
    "\n",
    "Profit = Rp 100,000,000 (Revenue) - Rp 60,000,000 (Total Costs) = Rp 40,000,000\n",
    "Improvement:\n",
    "Cost Reduction:\n",
    "\n",
    "Before: Rp 70,000,000\n",
    "After: Rp 60,000,000\n",
    "Improvement: Rp 10,000,000 (Cost Reduction)\n",
    "Revenue Increase:\n",
    "\n",
    "Before: Rp 80,000,000\n",
    "After: Rp 100,000,000\n",
    "Improvement: Rp 20,000,000 (Revenue Increase)\n",
    "Profit Increase:\n",
    "\n",
    "Before: Rp 10,000,000\n",
    "After: Rp 40,000,000\n",
    "Improvement: Rp 30,000,000 (Profit Increase)\n",
    "Conclusion:\n",
    "The implementation of the machine learning model has resulted in significant improvements:\n",
    "\n",
    "Cost Reduction: Rp 10,000,000\n",
    "Revenue Increase: Rp 20,000,000\n",
    "Profit Increase: Rp 30,000,000"
   ]
  }
 ],
 "metadata": {
  "kernelspec": {
   "display_name": "Python 3 (ipykernel)",
   "language": "python",
   "name": "python3"
  },
  "language_info": {
   "codemirror_mode": {
    "name": "ipython",
    "version": 3
   },
   "file_extension": ".py",
   "mimetype": "text/x-python",
   "name": "python",
   "nbconvert_exporter": "python",
   "pygments_lexer": "ipython3",
   "version": "3.11.5"
  }
 },
 "nbformat": 4,
 "nbformat_minor": 5
}
